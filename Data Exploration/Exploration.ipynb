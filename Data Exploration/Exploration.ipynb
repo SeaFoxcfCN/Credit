{
 "cells": [
  {
   "cell_type": "markdown",
   "metadata": {},
   "source": [
    "## 项目数据探索"
   ]
  },
  {
   "cell_type": "code",
   "execution_count": 10,
   "metadata": {
    "collapsed": false
   },
   "outputs": [],
   "source": [
    "import numpy as np\n",
    "import pandas as pd\n",
    "import matplotlib.pyplot as plt\n",
    "import seaborn as sns\n",
    "plt.style.use(\"bmh\")\n",
    "plt.rc('font', family='SimHei', size=13)\n",
    "%matplotlib inline\n",
    "\n",
    "import os"
   ]
  },
  {
   "cell_type": "code",
   "execution_count": 2,
   "metadata": {
    "collapsed": true
   },
   "outputs": [],
   "source": [
    "# 导入数据集\n",
    "data_train = pd.read_csv('../Data/cs-training.csv')\n",
    "data_test = pd.read_csv('../Data/cs-test.csv')"
   ]
  },
  {
   "cell_type": "code",
   "execution_count": 6,
   "metadata": {
    "collapsed": false
   },
   "outputs": [
    {
     "data": {
      "text/html": [
       "<div>\n",
       "<table border=\"1\" class=\"dataframe\">\n",
       "  <thead>\n",
       "    <tr style=\"text-align: right;\">\n",
       "      <th></th>\n",
       "      <th>Unnamed: 0</th>\n",
       "      <th>SeriousDlqin2yrs</th>\n",
       "      <th>RevolvingUtilizationOfUnsecuredLines</th>\n",
       "      <th>age</th>\n",
       "      <th>NumberOfTime30-59DaysPastDueNotWorse</th>\n",
       "      <th>DebtRatio</th>\n",
       "      <th>MonthlyIncome</th>\n",
       "      <th>NumberOfOpenCreditLinesAndLoans</th>\n",
       "      <th>NumberOfTimes90DaysLate</th>\n",
       "      <th>NumberRealEstateLoansOrLines</th>\n",
       "      <th>NumberOfTime60-89DaysPastDueNotWorse</th>\n",
       "      <th>NumberOfDependents</th>\n",
       "    </tr>\n",
       "  </thead>\n",
       "  <tbody>\n",
       "    <tr>\n",
       "      <th>0</th>\n",
       "      <td>1</td>\n",
       "      <td>1</td>\n",
       "      <td>0.766127</td>\n",
       "      <td>45</td>\n",
       "      <td>2</td>\n",
       "      <td>0.802982</td>\n",
       "      <td>9120.0</td>\n",
       "      <td>13</td>\n",
       "      <td>0</td>\n",
       "      <td>6</td>\n",
       "      <td>0</td>\n",
       "      <td>2.0</td>\n",
       "    </tr>\n",
       "    <tr>\n",
       "      <th>1</th>\n",
       "      <td>2</td>\n",
       "      <td>0</td>\n",
       "      <td>0.957151</td>\n",
       "      <td>40</td>\n",
       "      <td>0</td>\n",
       "      <td>0.121876</td>\n",
       "      <td>2600.0</td>\n",
       "      <td>4</td>\n",
       "      <td>0</td>\n",
       "      <td>0</td>\n",
       "      <td>0</td>\n",
       "      <td>1.0</td>\n",
       "    </tr>\n",
       "    <tr>\n",
       "      <th>2</th>\n",
       "      <td>3</td>\n",
       "      <td>0</td>\n",
       "      <td>0.658180</td>\n",
       "      <td>38</td>\n",
       "      <td>1</td>\n",
       "      <td>0.085113</td>\n",
       "      <td>3042.0</td>\n",
       "      <td>2</td>\n",
       "      <td>1</td>\n",
       "      <td>0</td>\n",
       "      <td>0</td>\n",
       "      <td>0.0</td>\n",
       "    </tr>\n",
       "    <tr>\n",
       "      <th>3</th>\n",
       "      <td>4</td>\n",
       "      <td>0</td>\n",
       "      <td>0.233810</td>\n",
       "      <td>30</td>\n",
       "      <td>0</td>\n",
       "      <td>0.036050</td>\n",
       "      <td>3300.0</td>\n",
       "      <td>5</td>\n",
       "      <td>0</td>\n",
       "      <td>0</td>\n",
       "      <td>0</td>\n",
       "      <td>0.0</td>\n",
       "    </tr>\n",
       "    <tr>\n",
       "      <th>4</th>\n",
       "      <td>5</td>\n",
       "      <td>0</td>\n",
       "      <td>0.907239</td>\n",
       "      <td>49</td>\n",
       "      <td>1</td>\n",
       "      <td>0.024926</td>\n",
       "      <td>63588.0</td>\n",
       "      <td>7</td>\n",
       "      <td>0</td>\n",
       "      <td>1</td>\n",
       "      <td>0</td>\n",
       "      <td>0.0</td>\n",
       "    </tr>\n",
       "  </tbody>\n",
       "</table>\n",
       "</div>"
      ],
      "text/plain": [
       "   Unnamed: 0  SeriousDlqin2yrs  RevolvingUtilizationOfUnsecuredLines  age  \\\n",
       "0           1                 1                              0.766127   45   \n",
       "1           2                 0                              0.957151   40   \n",
       "2           3                 0                              0.658180   38   \n",
       "3           4                 0                              0.233810   30   \n",
       "4           5                 0                              0.907239   49   \n",
       "\n",
       "   NumberOfTime30-59DaysPastDueNotWorse  DebtRatio  MonthlyIncome  \\\n",
       "0                                     2   0.802982         9120.0   \n",
       "1                                     0   0.121876         2600.0   \n",
       "2                                     1   0.085113         3042.0   \n",
       "3                                     0   0.036050         3300.0   \n",
       "4                                     1   0.024926        63588.0   \n",
       "\n",
       "   NumberOfOpenCreditLinesAndLoans  NumberOfTimes90DaysLate  \\\n",
       "0                               13                        0   \n",
       "1                                4                        0   \n",
       "2                                2                        1   \n",
       "3                                5                        0   \n",
       "4                                7                        0   \n",
       "\n",
       "   NumberRealEstateLoansOrLines  NumberOfTime60-89DaysPastDueNotWorse  \\\n",
       "0                             6                                     0   \n",
       "1                             0                                     0   \n",
       "2                             0                                     0   \n",
       "3                             0                                     0   \n",
       "4                             1                                     0   \n",
       "\n",
       "   NumberOfDependents  \n",
       "0                 2.0  \n",
       "1                 1.0  \n",
       "2                 0.0  \n",
       "3                 0.0  \n",
       "4                 0.0  "
      ]
     },
     "execution_count": 6,
     "metadata": {},
     "output_type": "execute_result"
    }
   ],
   "source": [
    "data_train.head(5)"
   ]
  },
  {
   "cell_type": "code",
   "execution_count": 4,
   "metadata": {
    "collapsed": false
   },
   "outputs": [
    {
     "name": "stdout",
     "output_type": "stream",
     "text": [
      "<class 'pandas.core.frame.DataFrame'>\n",
      "RangeIndex: 150000 entries, 0 to 149999\n",
      "Data columns (total 12 columns):\n",
      "Unnamed: 0                              150000 non-null int64\n",
      "SeriousDlqin2yrs                        150000 non-null int64\n",
      "RevolvingUtilizationOfUnsecuredLines    150000 non-null float64\n",
      "age                                     150000 non-null int64\n",
      "NumberOfTime30-59DaysPastDueNotWorse    150000 non-null int64\n",
      "DebtRatio                               150000 non-null float64\n",
      "MonthlyIncome                           120269 non-null float64\n",
      "NumberOfOpenCreditLinesAndLoans         150000 non-null int64\n",
      "NumberOfTimes90DaysLate                 150000 non-null int64\n",
      "NumberRealEstateLoansOrLines            150000 non-null int64\n",
      "NumberOfTime60-89DaysPastDueNotWorse    150000 non-null int64\n",
      "NumberOfDependents                      146076 non-null float64\n",
      "dtypes: float64(4), int64(8)\n",
      "memory usage: 13.7 MB\n"
     ]
    }
   ],
   "source": [
    "data_train.info()"
   ]
  },
  {
   "cell_type": "markdown",
   "metadata": {},
   "source": [
    "通过观察,发现含有缺失值的特征有两个 MonthlyIncome，NumberOfDependents"
   ]
  },
  {
   "cell_type": "code",
   "execution_count": 5,
   "metadata": {
    "collapsed": false
   },
   "outputs": [
    {
     "name": "stderr",
     "output_type": "stream",
     "text": [
      "/home/python/anaconda3/lib/python3.5/site-packages/numpy/lib/function_base.py:3834: RuntimeWarning: Invalid value encountered in percentile\n",
      "  RuntimeWarning)\n"
     ]
    },
    {
     "data": {
      "text/html": [
       "<div>\n",
       "<table border=\"1\" class=\"dataframe\">\n",
       "  <thead>\n",
       "    <tr style=\"text-align: right;\">\n",
       "      <th></th>\n",
       "      <th>Unnamed: 0</th>\n",
       "      <th>SeriousDlqin2yrs</th>\n",
       "      <th>RevolvingUtilizationOfUnsecuredLines</th>\n",
       "      <th>age</th>\n",
       "      <th>NumberOfTime30-59DaysPastDueNotWorse</th>\n",
       "      <th>DebtRatio</th>\n",
       "      <th>MonthlyIncome</th>\n",
       "      <th>NumberOfOpenCreditLinesAndLoans</th>\n",
       "      <th>NumberOfTimes90DaysLate</th>\n",
       "      <th>NumberRealEstateLoansOrLines</th>\n",
       "      <th>NumberOfTime60-89DaysPastDueNotWorse</th>\n",
       "      <th>NumberOfDependents</th>\n",
       "    </tr>\n",
       "  </thead>\n",
       "  <tbody>\n",
       "    <tr>\n",
       "      <th>count</th>\n",
       "      <td>150000.000000</td>\n",
       "      <td>150000.000000</td>\n",
       "      <td>150000.000000</td>\n",
       "      <td>150000.000000</td>\n",
       "      <td>150000.000000</td>\n",
       "      <td>150000.000000</td>\n",
       "      <td>1.202690e+05</td>\n",
       "      <td>150000.000000</td>\n",
       "      <td>150000.000000</td>\n",
       "      <td>150000.000000</td>\n",
       "      <td>150000.000000</td>\n",
       "      <td>146076.000000</td>\n",
       "    </tr>\n",
       "    <tr>\n",
       "      <th>mean</th>\n",
       "      <td>75000.500000</td>\n",
       "      <td>0.066840</td>\n",
       "      <td>6.048438</td>\n",
       "      <td>52.295207</td>\n",
       "      <td>0.421033</td>\n",
       "      <td>353.005076</td>\n",
       "      <td>6.670221e+03</td>\n",
       "      <td>8.452760</td>\n",
       "      <td>0.265973</td>\n",
       "      <td>1.018240</td>\n",
       "      <td>0.240387</td>\n",
       "      <td>0.757222</td>\n",
       "    </tr>\n",
       "    <tr>\n",
       "      <th>std</th>\n",
       "      <td>43301.414527</td>\n",
       "      <td>0.249746</td>\n",
       "      <td>249.755371</td>\n",
       "      <td>14.771866</td>\n",
       "      <td>4.192781</td>\n",
       "      <td>2037.818523</td>\n",
       "      <td>1.438467e+04</td>\n",
       "      <td>5.145951</td>\n",
       "      <td>4.169304</td>\n",
       "      <td>1.129771</td>\n",
       "      <td>4.155179</td>\n",
       "      <td>1.115086</td>\n",
       "    </tr>\n",
       "    <tr>\n",
       "      <th>min</th>\n",
       "      <td>1.000000</td>\n",
       "      <td>0.000000</td>\n",
       "      <td>0.000000</td>\n",
       "      <td>0.000000</td>\n",
       "      <td>0.000000</td>\n",
       "      <td>0.000000</td>\n",
       "      <td>0.000000e+00</td>\n",
       "      <td>0.000000</td>\n",
       "      <td>0.000000</td>\n",
       "      <td>0.000000</td>\n",
       "      <td>0.000000</td>\n",
       "      <td>0.000000</td>\n",
       "    </tr>\n",
       "    <tr>\n",
       "      <th>25%</th>\n",
       "      <td>37500.750000</td>\n",
       "      <td>0.000000</td>\n",
       "      <td>0.029867</td>\n",
       "      <td>41.000000</td>\n",
       "      <td>0.000000</td>\n",
       "      <td>0.175074</td>\n",
       "      <td>NaN</td>\n",
       "      <td>5.000000</td>\n",
       "      <td>0.000000</td>\n",
       "      <td>0.000000</td>\n",
       "      <td>0.000000</td>\n",
       "      <td>NaN</td>\n",
       "    </tr>\n",
       "    <tr>\n",
       "      <th>50%</th>\n",
       "      <td>75000.500000</td>\n",
       "      <td>0.000000</td>\n",
       "      <td>0.154181</td>\n",
       "      <td>52.000000</td>\n",
       "      <td>0.000000</td>\n",
       "      <td>0.366508</td>\n",
       "      <td>NaN</td>\n",
       "      <td>8.000000</td>\n",
       "      <td>0.000000</td>\n",
       "      <td>1.000000</td>\n",
       "      <td>0.000000</td>\n",
       "      <td>NaN</td>\n",
       "    </tr>\n",
       "    <tr>\n",
       "      <th>75%</th>\n",
       "      <td>112500.250000</td>\n",
       "      <td>0.000000</td>\n",
       "      <td>0.559046</td>\n",
       "      <td>63.000000</td>\n",
       "      <td>0.000000</td>\n",
       "      <td>0.868254</td>\n",
       "      <td>NaN</td>\n",
       "      <td>11.000000</td>\n",
       "      <td>0.000000</td>\n",
       "      <td>2.000000</td>\n",
       "      <td>0.000000</td>\n",
       "      <td>NaN</td>\n",
       "    </tr>\n",
       "    <tr>\n",
       "      <th>max</th>\n",
       "      <td>150000.000000</td>\n",
       "      <td>1.000000</td>\n",
       "      <td>50708.000000</td>\n",
       "      <td>109.000000</td>\n",
       "      <td>98.000000</td>\n",
       "      <td>329664.000000</td>\n",
       "      <td>3.008750e+06</td>\n",
       "      <td>58.000000</td>\n",
       "      <td>98.000000</td>\n",
       "      <td>54.000000</td>\n",
       "      <td>98.000000</td>\n",
       "      <td>20.000000</td>\n",
       "    </tr>\n",
       "  </tbody>\n",
       "</table>\n",
       "</div>"
      ],
      "text/plain": [
       "          Unnamed: 0  SeriousDlqin2yrs  RevolvingUtilizationOfUnsecuredLines  \\\n",
       "count  150000.000000     150000.000000                         150000.000000   \n",
       "mean    75000.500000          0.066840                              6.048438   \n",
       "std     43301.414527          0.249746                            249.755371   \n",
       "min         1.000000          0.000000                              0.000000   \n",
       "25%     37500.750000          0.000000                              0.029867   \n",
       "50%     75000.500000          0.000000                              0.154181   \n",
       "75%    112500.250000          0.000000                              0.559046   \n",
       "max    150000.000000          1.000000                          50708.000000   \n",
       "\n",
       "                 age  NumberOfTime30-59DaysPastDueNotWorse      DebtRatio  \\\n",
       "count  150000.000000                         150000.000000  150000.000000   \n",
       "mean       52.295207                              0.421033     353.005076   \n",
       "std        14.771866                              4.192781    2037.818523   \n",
       "min         0.000000                              0.000000       0.000000   \n",
       "25%        41.000000                              0.000000       0.175074   \n",
       "50%        52.000000                              0.000000       0.366508   \n",
       "75%        63.000000                              0.000000       0.868254   \n",
       "max       109.000000                             98.000000  329664.000000   \n",
       "\n",
       "       MonthlyIncome  NumberOfOpenCreditLinesAndLoans  \\\n",
       "count   1.202690e+05                    150000.000000   \n",
       "mean    6.670221e+03                         8.452760   \n",
       "std     1.438467e+04                         5.145951   \n",
       "min     0.000000e+00                         0.000000   \n",
       "25%              NaN                         5.000000   \n",
       "50%              NaN                         8.000000   \n",
       "75%              NaN                        11.000000   \n",
       "max     3.008750e+06                        58.000000   \n",
       "\n",
       "       NumberOfTimes90DaysLate  NumberRealEstateLoansOrLines  \\\n",
       "count            150000.000000                 150000.000000   \n",
       "mean                  0.265973                      1.018240   \n",
       "std                   4.169304                      1.129771   \n",
       "min                   0.000000                      0.000000   \n",
       "25%                   0.000000                      0.000000   \n",
       "50%                   0.000000                      1.000000   \n",
       "75%                   0.000000                      2.000000   \n",
       "max                  98.000000                     54.000000   \n",
       "\n",
       "       NumberOfTime60-89DaysPastDueNotWorse  NumberOfDependents  \n",
       "count                         150000.000000       146076.000000  \n",
       "mean                               0.240387            0.757222  \n",
       "std                                4.155179            1.115086  \n",
       "min                                0.000000            0.000000  \n",
       "25%                                0.000000                 NaN  \n",
       "50%                                0.000000                 NaN  \n",
       "75%                                0.000000                 NaN  \n",
       "max                               98.000000           20.000000  "
      ]
     },
     "execution_count": 5,
     "metadata": {},
     "output_type": "execute_result"
    }
   ],
   "source": [
    "data_train.describe()"
   ]
  },
  {
   "cell_type": "code",
   "execution_count": 7,
   "metadata": {
    "collapsed": true
   },
   "outputs": [],
   "source": [
    "# 替换长的特征名称\n",
    "columns = ({'SeriousDlqin2yrs':'IsDlq',\n",
    "            'RevolvingUtilizationOfUnsecuredLines':'Revol',\n",
    "           'NumberOfOpenCreditLinesAndLoans':'NumOpen',\n",
    "           'NumberOfTimes90DaysLate':'Num90late',\n",
    "           'NumberRealEstateLoansOrLines':'NumEstate',\n",
    "           'NumberOfTime60-89DaysPastDueNotWorse':'Num60-89late',\n",
    "           'NumberOfDependents':'NumDependents',\n",
    "           'NumberOfTime30-59DaysPastDueNotWorse':'Num30-59late'}\n",
    "          )\n",
    "data_train.rename(columns=columns,inplace = True)\n",
    "data_test.rename(columns=columns,inplace = True)"
   ]
  },
  {
   "cell_type": "code",
   "execution_count": 29,
   "metadata": {
    "collapsed": false
   },
   "outputs": [
    {
     "data": {
      "image/png": "[encoded data removed]",
      "text/plain": [
       "<matplotlib.figure.Figure at 0x7f5216968160>"
      ]
     },
     "metadata": {},
     "output_type": "display_data"
    }
   ],
   "source": [
    "plt.figure(figsize = (8,5))\n",
    "sns.countplot(\"IsDlq\", data=data_train)\n",
    "plt.show()"
   ]
  },
  {
   "cell_type": "markdown",
   "metadata": {},
   "source": [
    "## 好坏比"
   ]
  },
  {
   "cell_type": "code",
   "execution_count": 14,
   "metadata": {
    "collapsed": false
   },
   "outputs": [
    {
     "name": "stdout",
     "output_type": "stream",
     "text": [
      "训练集中客户好坏比为：6.68%\n"
     ]
    }
   ],
   "source": [
    "badNum = data_train[data_train['IsDlq']==1].shape[0]\n",
    "goodNum = data_train[data_train['IsDlq']==0].shape[0]\n",
    "print('训练集中客户好坏比为：{0}%'.format(round(badNum*100/(goodNum+badNum),2)))"
   ]
  },
  {
   "cell_type": "markdown",
   "metadata": {},
   "source": [
    "样本不均衡后续建模部分进行处理"
   ]
  },
  {
   "cell_type": "markdown",
   "metadata": {},
   "source": [
    "## 特征分布"
   ]
  },
  {
   "cell_type": "code",
   "execution_count": 15,
   "metadata": {
    "collapsed": false
   },
   "outputs": [
    {
     "name": "stderr",
     "output_type": "stream",
     "text": [
      "/home/python/anaconda3/lib/python3.5/site-packages/statsmodels/nonparametric/kdetools.py:20: VisibleDeprecationWarning: using a non-integer number instead of an integer will result in an error in the future\n",
      "  y = X[:m/2+1] + np.r_[0,X[m/2+1:],0]*1j\n"
     ]
    },
    {
     "data": {
      "image/png": "[encoded data removed]",
      "text/plain": [
       "<matplotlib.figure.Figure at 0x7f5217aa83c8>"
      ]
     },
     "metadata": {},
     "output_type": "display_data"
    }
   ],
   "source": [
    "f,[ax1,ax2]=plt.subplots(1,2,figsize=(20,8))\n",
    "sns.distplot(data_train['age'],ax=ax1)\n",
    "sns.boxplot(y='age',data=data_train,ax=ax2)\n",
    "plt.show()"
   ]
  },
  {
   "cell_type": "code",
   "execution_count": 17,
   "metadata": {
    "collapsed": false
   },
   "outputs": [
    {
     "name": "stdout",
     "output_type": "stream",
     "text": [
      "年龄异常值上限为：96.0, 下限为：8.0\n",
      "上届异常值占比：0.03 %\n",
      "下届异常值占比：0.0006666666666666666 %\n"
     ]
    }
   ],
   "source": [
    "# 四分位距观察异常值\n",
    "agePercentile = np.percentile(data_train['age'],[0,25,50,75,100])\n",
    "ageIQR = agePercentile[3] - agePercentile[1]\n",
    "ageUpLimit = agePercentile[3]+ageIQR*1.5\n",
    "ageDownLimit = agePercentile[1]-ageIQR*1.5\n",
    "print('年龄异常值上限为：{0}, 下限为：{1}'.format(ageUpLimit,ageDownLimit))\n",
    "print('上届异常值占比：{0} %'.format(data_train[data_train['age']>96].shape[0]*100/data_train.shape[0]))\n",
    "print('下届异常值占比：{0} %'.format(data_train[data_train['age']<8].shape[0]*100/data_train.shape[0]))"
   ]
  },
  {
   "cell_type": "code",
   "execution_count": 18,
   "metadata": {
    "collapsed": false
   },
   "outputs": [
    {
     "data": {
      "text/html": [
       "<div>\n",
       "<table border=\"1\" class=\"dataframe\">\n",
       "  <thead>\n",
       "    <tr style=\"text-align: right;\">\n",
       "      <th></th>\n",
       "      <th>Unnamed: 0</th>\n",
       "      <th>IsDlq</th>\n",
       "      <th>Revol</th>\n",
       "      <th>age</th>\n",
       "      <th>Num30-59late</th>\n",
       "      <th>DebtRatio</th>\n",
       "      <th>MonthlyIncome</th>\n",
       "      <th>NumOpen</th>\n",
       "      <th>Num90late</th>\n",
       "      <th>NumEstate</th>\n",
       "      <th>Num60-89late</th>\n",
       "      <th>NumDependents</th>\n",
       "    </tr>\n",
       "  </thead>\n",
       "  <tbody>\n",
       "    <tr>\n",
       "      <th>65695</th>\n",
       "      <td>65696</td>\n",
       "      <td>0</td>\n",
       "      <td>1.0</td>\n",
       "      <td>0</td>\n",
       "      <td>1</td>\n",
       "      <td>0.436927</td>\n",
       "      <td>6000.0</td>\n",
       "      <td>6</td>\n",
       "      <td>0</td>\n",
       "      <td>2</td>\n",
       "      <td>0</td>\n",
       "      <td>2.0</td>\n",
       "    </tr>\n",
       "  </tbody>\n",
       "</table>\n",
       "</div>"
      ],
      "text/plain": [
       "       Unnamed: 0  IsDlq  Revol  age  Num30-59late  DebtRatio  MonthlyIncome  \\\n",
       "65695       65696      0    1.0    0             1   0.436927         6000.0   \n",
       "\n",
       "       NumOpen  Num90late  NumEstate  Num60-89late  NumDependents  \n",
       "65695        6          0          2             0            2.0  "
      ]
     },
     "execution_count": 18,
     "metadata": {},
     "output_type": "execute_result"
    }
   ],
   "source": [
    "data_train[data_train['age']<=8]"
   ]
  },
  {
   "cell_type": "code",
   "execution_count": 19,
   "metadata": {
    "collapsed": false
   },
   "outputs": [
    {
     "data": {
      "text/html": [
       "<div>\n",
       "<table border=\"1\" class=\"dataframe\">\n",
       "  <thead>\n",
       "    <tr style=\"text-align: right;\">\n",
       "      <th></th>\n",
       "      <th>Unnamed: 0</th>\n",
       "      <th>IsDlq</th>\n",
       "      <th>Revol</th>\n",
       "      <th>age</th>\n",
       "      <th>Num30-59late</th>\n",
       "      <th>DebtRatio</th>\n",
       "      <th>MonthlyIncome</th>\n",
       "      <th>NumOpen</th>\n",
       "      <th>Num90late</th>\n",
       "      <th>NumEstate</th>\n",
       "      <th>Num60-89late</th>\n",
       "      <th>NumDependents</th>\n",
       "    </tr>\n",
       "  </thead>\n",
       "  <tbody>\n",
       "    <tr>\n",
       "      <th>436</th>\n",
       "      <td>437</td>\n",
       "      <td>0</td>\n",
       "      <td>0.007000</td>\n",
       "      <td>97</td>\n",
       "      <td>0</td>\n",
       "      <td>3.000000</td>\n",
       "      <td>NaN</td>\n",
       "      <td>2</td>\n",
       "      <td>0</td>\n",
       "      <td>0</td>\n",
       "      <td>0</td>\n",
       "      <td>NaN</td>\n",
       "    </tr>\n",
       "    <tr>\n",
       "      <th>2922</th>\n",
       "      <td>2923</td>\n",
       "      <td>0</td>\n",
       "      <td>0.005043</td>\n",
       "      <td>99</td>\n",
       "      <td>0</td>\n",
       "      <td>800.000000</td>\n",
       "      <td>NaN</td>\n",
       "      <td>5</td>\n",
       "      <td>0</td>\n",
       "      <td>0</td>\n",
       "      <td>0</td>\n",
       "      <td>NaN</td>\n",
       "    </tr>\n",
       "    <tr>\n",
       "      <th>7763</th>\n",
       "      <td>7764</td>\n",
       "      <td>0</td>\n",
       "      <td>0.069167</td>\n",
       "      <td>101</td>\n",
       "      <td>0</td>\n",
       "      <td>50.000000</td>\n",
       "      <td>NaN</td>\n",
       "      <td>2</td>\n",
       "      <td>0</td>\n",
       "      <td>0</td>\n",
       "      <td>0</td>\n",
       "      <td>0.0</td>\n",
       "    </tr>\n",
       "    <tr>\n",
       "      <th>9359</th>\n",
       "      <td>9360</td>\n",
       "      <td>0</td>\n",
       "      <td>0.000000</td>\n",
       "      <td>97</td>\n",
       "      <td>0</td>\n",
       "      <td>0.000000</td>\n",
       "      <td>0.0</td>\n",
       "      <td>3</td>\n",
       "      <td>0</td>\n",
       "      <td>0</td>\n",
       "      <td>0</td>\n",
       "      <td>0.0</td>\n",
       "    </tr>\n",
       "    <tr>\n",
       "      <th>9870</th>\n",
       "      <td>9871</td>\n",
       "      <td>0</td>\n",
       "      <td>0.012737</td>\n",
       "      <td>98</td>\n",
       "      <td>0</td>\n",
       "      <td>0.006503</td>\n",
       "      <td>2152.0</td>\n",
       "      <td>6</td>\n",
       "      <td>0</td>\n",
       "      <td>0</td>\n",
       "      <td>0</td>\n",
       "      <td>0.0</td>\n",
       "    </tr>\n",
       "  </tbody>\n",
       "</table>\n",
       "</div>"
      ],
      "text/plain": [
       "      Unnamed: 0  IsDlq     Revol  age  Num30-59late   DebtRatio  \\\n",
       "436          437      0  0.007000   97             0    3.000000   \n",
       "2922        2923      0  0.005043   99             0  800.000000   \n",
       "7763        7764      0  0.069167  101             0   50.000000   \n",
       "9359        9360      0  0.000000   97             0    0.000000   \n",
       "9870        9871      0  0.012737   98             0    0.006503   \n",
       "\n",
       "      MonthlyIncome  NumOpen  Num90late  NumEstate  Num60-89late  \\\n",
       "436             NaN        2          0          0             0   \n",
       "2922            NaN        5          0          0             0   \n",
       "7763            NaN        2          0          0             0   \n",
       "9359            0.0        3          0          0             0   \n",
       "9870         2152.0        6          0          0             0   \n",
       "\n",
       "      NumDependents  \n",
       "436             NaN  \n",
       "2922            NaN  \n",
       "7763            0.0  \n",
       "9359            0.0  \n",
       "9870            0.0  "
      ]
     },
     "execution_count": 19,
     "metadata": {},
     "output_type": "execute_result"
    }
   ],
   "source": [
    "data_train[data_train['age']>96].head(5)"
   ]
  },
  {
   "cell_type": "code",
   "execution_count": 30,
   "metadata": {
    "collapsed": false
   },
   "outputs": [
    {
     "data": {
      "image/png": "[encoded data removed]",
      "text/plain": [
       "<matplotlib.figure.Figure at 0x7f52169830f0>"
      ]
     },
     "metadata": {},
     "output_type": "display_data"
    }
   ],
   "source": [
    "\n",
    "# 对age分箱观察一下年龄段对延期用户的影响\n",
    "data_train['ageCat'] = np.nan\n",
    "data_train.loc[(data_train['age']>18)&(data_train['age']<40),'ageCat'] = 1 \n",
    "data_train.loc[(data_train['age']>=40)&(data_train['age']<60),'ageCat'] = 2 \n",
    "data_train.loc[(data_train['age']>=60)&(data_train['age']<80),'ageCat'] = 3\n",
    "data_train.loc[(data_train['age']>=80),'ageCat'] = 4\n",
    "\n",
    "gbRatioList = {}\n",
    "for m in data_train['ageCat'].value_counts().index:\n",
    "    data = data_train.loc[data_train['ageCat']==m]\n",
    "    gbRatio = data.loc[data['IsDlq']==0].shape[0]/data.loc[data['IsDlq']==1].shape[0]\n",
    "    gbRatioList[m] = gbRatio\n",
    "        \n",
    "f,ax = plt.subplots(figsize=(8,5))\n",
    "sns.countplot('ageCat', hue='IsDlq', data=data_train, ax=ax)\n",
    "ax2 = ax.twinx()\n",
    "ax2.plot(sorted([x-1 for x in gbRatioList.keys()]), sorted([round(x,2) for x in gbRatioList.values()]),'ro--',linewidth=2)\n",
    "plt.savefig('0.png')\n",
    "plt.show()"
   ]
  },
  {
   "cell_type": "markdown",
   "metadata": {},
   "source": [
    "**结论**：可以看到年龄越大，好坏比越大，说明随着年龄增大，违约的比例逐渐减少。这为我们后面woe分箱提供了参考，呈现了单调性。"
   ]
  },
  {
   "cell_type": "code",
   "execution_count": 32,
   "metadata": {
    "collapsed": false
   },
   "outputs": [],
   "source": [
    "data_train['agecut'] = pd.cut(data_train['age'],[18,40,60,80,109])"
   ]
  },
  {
   "cell_type": "code",
   "execution_count": 50,
   "metadata": {
    "collapsed": false
   },
   "outputs": [
    {
     "data": {
      "text/html": [
       "<div>\n",
       "<table border=\"1\" class=\"dataframe\">\n",
       "  <thead>\n",
       "    <tr style=\"text-align: right;\">\n",
       "      <th>IsDlq</th>\n",
       "      <th>0</th>\n",
       "      <th>1</th>\n",
       "    </tr>\n",
       "    <tr>\n",
       "      <th>agecut</th>\n",
       "      <th></th>\n",
       "      <th></th>\n",
       "    </tr>\n",
       "  </thead>\n",
       "  <tbody>\n",
       "    <tr>\n",
       "      <th>(18, 40]</th>\n",
       "      <td>31462</td>\n",
       "      <td>3634</td>\n",
       "    </tr>\n",
       "    <tr>\n",
       "      <th>(40, 60]</th>\n",
       "      <td>64801</td>\n",
       "      <td>5042</td>\n",
       "    </tr>\n",
       "    <tr>\n",
       "      <th>(60, 80]</th>\n",
       "      <td>38874</td>\n",
       "      <td>1250</td>\n",
       "    </tr>\n",
       "    <tr>\n",
       "      <th>(80, 109]</th>\n",
       "      <td>4836</td>\n",
       "      <td>100</td>\n",
       "    </tr>\n",
       "  </tbody>\n",
       "</table>\n",
       "</div>"
      ],
      "text/plain": [
       "IsDlq          0     1\n",
       "agecut                \n",
       "(18, 40]   31462  3634\n",
       "(40, 60]   64801  5042\n",
       "(60, 80]   38874  1250\n",
       "(80, 109]   4836   100"
      ]
     },
     "execution_count": 50,
     "metadata": {},
     "output_type": "execute_result"
    }
   ],
   "source": [
    "pd.crosstab(data_train['agecut'],data_train['IsDlq'])"
   ]
  },
  {
   "cell_type": "markdown",
   "metadata": {},
   "source": [
    "### RevolvingUtilizationOfUnsecuredLines特征"
   ]
  },
  {
   "cell_type": "code",
   "execution_count": 67,
   "metadata": {
    "collapsed": false
   },
   "outputs": [
    {
     "data": {
      "image/png": "[encoded data removed]",
      "text/plain": [
       "<matplotlib.figure.Figure at 0x7f520d488b38>"
      ]
     },
     "metadata": {},
     "output_type": "display_data"
    }
   ],
   "source": [
    "f,ax=plt.subplots(figsize=(10,5))\n",
    "plt.plot(data_train.index,data_train['Revol'])\n",
    "plt.show()"
   ]
  },
  {
   "cell_type": "code",
   "execution_count": 73,
   "metadata": {
    "collapsed": false
   },
   "outputs": [
    {
     "data": {
      "text/plain": [
       "count    150000.000000\n",
       "mean          6.048438\n",
       "std         249.755371\n",
       "min           0.000000\n",
       "25%           0.029867\n",
       "50%           0.154181\n",
       "75%           0.559046\n",
       "max       50708.000000\n",
       "Name: Revol, dtype: float64"
      ]
     },
     "execution_count": 73,
     "metadata": {},
     "output_type": "execute_result"
    }
   ],
   "source": [
    "data_train['Revol'].describe()"
   ]
  },
  {
   "cell_type": "code",
   "execution_count": 74,
   "metadata": {
    "collapsed": true
   },
   "outputs": [],
   "source": [
    "cats = pd.cut(data_train['Revol'],5)"
   ]
  },
  {
   "cell_type": "code",
   "execution_count": 81,
   "metadata": {
    "collapsed": false
   },
   "outputs": [
    {
     "data": {
      "text/plain": [
       "(-50.708, 10141.6]    149984\n",
       "(10141.6, 20283.2]        11\n",
       "(20283.2, 30424.8]         4\n",
       "(40566.4, 50708]           1\n",
       "(30424.8, 40566.4]         0\n",
       "Name: Revol, dtype: int64"
      ]
     },
     "execution_count": 81,
     "metadata": {},
     "output_type": "execute_result"
    }
   ],
   "source": [
    "cats.value_counts()"
   ]
  },
  {
   "cell_type": "code",
   "execution_count": 85,
   "metadata": {
    "collapsed": false
   },
   "outputs": [
    {
     "name": "stdout",
     "output_type": "stream",
     "text": [
      "异常值上限为：1.35281445575, 下限为：-0.7639007662499999\n",
      "上届异常值占比：0.51 %\n",
      "下届异常值占比：0.0 %\n"
     ]
    }
   ],
   "source": [
    "# 四分位距观察异常值\n",
    "revolPercentile = np.percentile(data_train['Revol'],[0,25,50,75,100])\n",
    "revolIQR = revolPercentile[3] - revolPercentile[1]\n",
    "revolUpLimit = revolPercentile[3]+revolIQR*1.5\n",
    "revolDownLimit = revolPercentile[1]-revolIQR*1.5\n",
    "print('异常值上限为：{0}, 下限为：{1}'.format(revolUpLimit,revolDownLimit))\n",
    "print('上届异常值占比：{0} %'.format(round(data_train[data_train['Revol']>revolUpLimit].shape[0]*100/data_train.shape[0],2)))\n",
    "print('下届异常值占比：{0} %'.format(round(data_train[data_train['Revol']<revolDownLimit].shape[0]*100/data_train.shape[0],2)))"
   ]
  },
  {
   "cell_type": "markdown",
   "metadata": {},
   "source": [
    "2.我们进一步观察一下上述结果是否准确。\n",
    "\n",
    "由于特征值跨度太大，数量分布极其不均匀，因此将特征值分段观察分布情况。"
   ]
  },
  {
   "cell_type": "code",
   "execution_count": 86,
   "metadata": {
    "collapsed": false
   },
   "outputs": [
    {
     "name": "stderr",
     "output_type": "stream",
     "text": [
      "/home/python/anaconda3/lib/python3.5/site-packages/statsmodels/nonparametric/kdetools.py:20: VisibleDeprecationWarning: using a non-integer number instead of an integer will result in an error in the future\n",
      "  y = X[:m/2+1] + np.r_[0,X[m/2+1:],0]*1j\n"
     ]
    },
    {
     "data": {
      "image/png": "[encoded data removed]",
      "text/plain": [
       "<matplotlib.figure.Figure at 0x7f520d47aeb8>"
      ]
     },
     "metadata": {},
     "output_type": "display_data"
    },
    {
     "name": "stdout",
     "output_type": "stream",
     "text": [
      "小于1数量占总数量比为：97.77466666666666%\n",
      "大于等于1的数量为：3338\n"
     ]
    }
   ],
   "source": [
    "# 观察RevolvingUtilizationOfUnsecuredLines特征分布\n",
    "f,[[ax1,ax2],[ax3,ax4]]=plt.subplots(2,2,figsize=(20,10))\n",
    "sns.distplot(data_train.loc[data_train['Revol']<1,'Revol'],bins=10,ax=ax1)\n",
    "sns.distplot(data_train.loc[(data_train['Revol']>=1)&(data_train['Revol']<10),'Revol'],bins=10,ax=ax2)\n",
    "sns.distplot(data_train.loc[(data_train['Revol']>=10)&(data_train['Revol']<10000),'Revol'],bins=10,ax=ax3)\n",
    "sns.distplot(data_train.loc[(data_train['Revol']>=10000)&(data_train['Revol']<52000),'Revol'],bins=10,ax=ax4)\n",
    "ax1.set_title('Revol<1')\n",
    "ax2.set_title('1=<Revol<10')\n",
    "ax3.set_title('10=<Revol<10000')\n",
    "ax4.set_title('10000=<Revol<50000')\n",
    "plt.show()\n",
    "\n",
    "print('小于1数量占总数量比为：{0}%'.format(data_train.loc[data_train['Revol']<1].shape[0]*100/data_train.shape[0]))\n",
    "print('大于等于1的数量为：{0}'.format(data_train.loc[data_train['Revol']>=1].shape[0]))"
   ]
  },
  {
   "cell_type": "code",
   "execution_count": 87,
   "metadata": {
    "collapsed": false
   },
   "outputs": [
    {
     "data": {
      "text/html": [
       "<div>\n",
       "<table border=\"1\" class=\"dataframe\">\n",
       "  <thead>\n",
       "    <tr style=\"text-align: right;\">\n",
       "      <th></th>\n",
       "      <th>Unnamed: 0</th>\n",
       "      <th>IsDlq</th>\n",
       "      <th>Revol</th>\n",
       "      <th>age</th>\n",
       "      <th>Num30-59late</th>\n",
       "      <th>DebtRatio</th>\n",
       "      <th>MonthlyIncome</th>\n",
       "      <th>NumOpen</th>\n",
       "      <th>Num90late</th>\n",
       "      <th>NumEstate</th>\n",
       "      <th>Num60-89late</th>\n",
       "      <th>NumDependents</th>\n",
       "      <th>ageCat</th>\n",
       "      <th>agecut</th>\n",
       "    </tr>\n",
       "  </thead>\n",
       "  <tbody>\n",
       "    <tr>\n",
       "      <th>16642</th>\n",
       "      <td>16643</td>\n",
       "      <td>1</td>\n",
       "      <td>14.540918</td>\n",
       "      <td>45</td>\n",
       "      <td>3</td>\n",
       "      <td>1.151865</td>\n",
       "      <td>3726.0</td>\n",
       "      <td>11</td>\n",
       "      <td>0</td>\n",
       "      <td>2</td>\n",
       "      <td>7</td>\n",
       "      <td>3.0</td>\n",
       "      <td>2.0</td>\n",
       "      <td>(40, 60]</td>\n",
       "    </tr>\n",
       "    <tr>\n",
       "      <th>23292</th>\n",
       "      <td>23293</td>\n",
       "      <td>0</td>\n",
       "      <td>79.000000</td>\n",
       "      <td>39</td>\n",
       "      <td>0</td>\n",
       "      <td>0.336924</td>\n",
       "      <td>9375.0</td>\n",
       "      <td>10</td>\n",
       "      <td>0</td>\n",
       "      <td>2</td>\n",
       "      <td>0</td>\n",
       "      <td>2.0</td>\n",
       "      <td>1.0</td>\n",
       "      <td>(18, 40]</td>\n",
       "    </tr>\n",
       "    <tr>\n",
       "      <th>31147</th>\n",
       "      <td>31148</td>\n",
       "      <td>1</td>\n",
       "      <td>11.385230</td>\n",
       "      <td>37</td>\n",
       "      <td>0</td>\n",
       "      <td>0.821643</td>\n",
       "      <td>4333.0</td>\n",
       "      <td>9</td>\n",
       "      <td>0</td>\n",
       "      <td>3</td>\n",
       "      <td>1</td>\n",
       "      <td>0.0</td>\n",
       "      <td>1.0</td>\n",
       "      <td>(18, 40]</td>\n",
       "    </tr>\n",
       "    <tr>\n",
       "      <th>46378</th>\n",
       "      <td>46379</td>\n",
       "      <td>0</td>\n",
       "      <td>95.000000</td>\n",
       "      <td>55</td>\n",
       "      <td>0</td>\n",
       "      <td>1195.000000</td>\n",
       "      <td>NaN</td>\n",
       "      <td>4</td>\n",
       "      <td>0</td>\n",
       "      <td>1</td>\n",
       "      <td>0</td>\n",
       "      <td>NaN</td>\n",
       "      <td>2.0</td>\n",
       "      <td>(40, 60]</td>\n",
       "    </tr>\n",
       "    <tr>\n",
       "      <th>53719</th>\n",
       "      <td>53720</td>\n",
       "      <td>1</td>\n",
       "      <td>29.784884</td>\n",
       "      <td>35</td>\n",
       "      <td>2</td>\n",
       "      <td>0.535539</td>\n",
       "      <td>5500.0</td>\n",
       "      <td>10</td>\n",
       "      <td>2</td>\n",
       "      <td>0</td>\n",
       "      <td>4</td>\n",
       "      <td>0.0</td>\n",
       "      <td>1.0</td>\n",
       "      <td>(18, 40]</td>\n",
       "    </tr>\n",
       "    <tr>\n",
       "      <th>54090</th>\n",
       "      <td>54091</td>\n",
       "      <td>0</td>\n",
       "      <td>85.000000</td>\n",
       "      <td>33</td>\n",
       "      <td>0</td>\n",
       "      <td>0.632053</td>\n",
       "      <td>8666.0</td>\n",
       "      <td>11</td>\n",
       "      <td>0</td>\n",
       "      <td>2</td>\n",
       "      <td>0</td>\n",
       "      <td>0.0</td>\n",
       "      <td>1.0</td>\n",
       "      <td>(18, 40]</td>\n",
       "    </tr>\n",
       "    <tr>\n",
       "      <th>63877</th>\n",
       "      <td>63878</td>\n",
       "      <td>1</td>\n",
       "      <td>12.037116</td>\n",
       "      <td>55</td>\n",
       "      <td>3</td>\n",
       "      <td>0.796490</td>\n",
       "      <td>4500.0</td>\n",
       "      <td>17</td>\n",
       "      <td>0</td>\n",
       "      <td>2</td>\n",
       "      <td>1</td>\n",
       "      <td>1.0</td>\n",
       "      <td>2.0</td>\n",
       "      <td>(40, 60]</td>\n",
       "    </tr>\n",
       "    <tr>\n",
       "      <th>67670</th>\n",
       "      <td>67671</td>\n",
       "      <td>1</td>\n",
       "      <td>12.462747</td>\n",
       "      <td>59</td>\n",
       "      <td>3</td>\n",
       "      <td>0.714789</td>\n",
       "      <td>7667.0</td>\n",
       "      <td>9</td>\n",
       "      <td>1</td>\n",
       "      <td>1</td>\n",
       "      <td>2</td>\n",
       "      <td>0.0</td>\n",
       "      <td>2.0</td>\n",
       "      <td>(40, 60]</td>\n",
       "    </tr>\n",
       "    <tr>\n",
       "      <th>68896</th>\n",
       "      <td>68897</td>\n",
       "      <td>0</td>\n",
       "      <td>50.000000</td>\n",
       "      <td>49</td>\n",
       "      <td>0</td>\n",
       "      <td>1.000000</td>\n",
       "      <td>NaN</td>\n",
       "      <td>2</td>\n",
       "      <td>0</td>\n",
       "      <td>0</td>\n",
       "      <td>0</td>\n",
       "      <td>0.0</td>\n",
       "      <td>2.0</td>\n",
       "      <td>(40, 60]</td>\n",
       "    </tr>\n",
       "    <tr>\n",
       "      <th>87699</th>\n",
       "      <td>87700</td>\n",
       "      <td>0</td>\n",
       "      <td>88.000000</td>\n",
       "      <td>57</td>\n",
       "      <td>0</td>\n",
       "      <td>90.000000</td>\n",
       "      <td>NaN</td>\n",
       "      <td>3</td>\n",
       "      <td>0</td>\n",
       "      <td>0</td>\n",
       "      <td>0</td>\n",
       "      <td>0.0</td>\n",
       "      <td>2.0</td>\n",
       "      <td>(40, 60]</td>\n",
       "    </tr>\n",
       "    <tr>\n",
       "      <th>87742</th>\n",
       "      <td>87743</td>\n",
       "      <td>0</td>\n",
       "      <td>42.000000</td>\n",
       "      <td>38</td>\n",
       "      <td>0</td>\n",
       "      <td>0.219468</td>\n",
       "      <td>17669.0</td>\n",
       "      <td>7</td>\n",
       "      <td>0</td>\n",
       "      <td>2</td>\n",
       "      <td>0</td>\n",
       "      <td>2.0</td>\n",
       "      <td>1.0</td>\n",
       "      <td>(18, 40]</td>\n",
       "    </tr>\n",
       "    <tr>\n",
       "      <th>97412</th>\n",
       "      <td>97413</td>\n",
       "      <td>0</td>\n",
       "      <td>55.000000</td>\n",
       "      <td>47</td>\n",
       "      <td>0</td>\n",
       "      <td>1.000000</td>\n",
       "      <td>NaN</td>\n",
       "      <td>3</td>\n",
       "      <td>0</td>\n",
       "      <td>0</td>\n",
       "      <td>0</td>\n",
       "      <td>0.0</td>\n",
       "      <td>2.0</td>\n",
       "      <td>(40, 60]</td>\n",
       "    </tr>\n",
       "    <tr>\n",
       "      <th>97744</th>\n",
       "      <td>97745</td>\n",
       "      <td>0</td>\n",
       "      <td>50.000000</td>\n",
       "      <td>58</td>\n",
       "      <td>0</td>\n",
       "      <td>0.129223</td>\n",
       "      <td>2367.0</td>\n",
       "      <td>6</td>\n",
       "      <td>0</td>\n",
       "      <td>0</td>\n",
       "      <td>0</td>\n",
       "      <td>0.0</td>\n",
       "      <td>2.0</td>\n",
       "      <td>(40, 60]</td>\n",
       "    </tr>\n",
       "    <tr>\n",
       "      <th>113645</th>\n",
       "      <td>113646</td>\n",
       "      <td>0</td>\n",
       "      <td>14.127182</td>\n",
       "      <td>64</td>\n",
       "      <td>3</td>\n",
       "      <td>0.380558</td>\n",
       "      <td>2900.0</td>\n",
       "      <td>3</td>\n",
       "      <td>0</td>\n",
       "      <td>1</td>\n",
       "      <td>1</td>\n",
       "      <td>0.0</td>\n",
       "      <td>3.0</td>\n",
       "      <td>(60, 80]</td>\n",
       "    </tr>\n",
       "    <tr>\n",
       "      <th>121171</th>\n",
       "      <td>121172</td>\n",
       "      <td>0</td>\n",
       "      <td>61.000000</td>\n",
       "      <td>56</td>\n",
       "      <td>0</td>\n",
       "      <td>0.138816</td>\n",
       "      <td>1908.0</td>\n",
       "      <td>11</td>\n",
       "      <td>0</td>\n",
       "      <td>0</td>\n",
       "      <td>0</td>\n",
       "      <td>0.0</td>\n",
       "      <td>2.0</td>\n",
       "      <td>(40, 60]</td>\n",
       "    </tr>\n",
       "    <tr>\n",
       "      <th>132362</th>\n",
       "      <td>132363</td>\n",
       "      <td>0</td>\n",
       "      <td>18.000000</td>\n",
       "      <td>64</td>\n",
       "      <td>0</td>\n",
       "      <td>1428.000000</td>\n",
       "      <td>NaN</td>\n",
       "      <td>4</td>\n",
       "      <td>0</td>\n",
       "      <td>1</td>\n",
       "      <td>0</td>\n",
       "      <td>NaN</td>\n",
       "      <td>3.0</td>\n",
       "      <td>(60, 80]</td>\n",
       "    </tr>\n",
       "    <tr>\n",
       "      <th>133478</th>\n",
       "      <td>133479</td>\n",
       "      <td>0</td>\n",
       "      <td>14.000000</td>\n",
       "      <td>77</td>\n",
       "      <td>0</td>\n",
       "      <td>282.000000</td>\n",
       "      <td>NaN</td>\n",
       "      <td>7</td>\n",
       "      <td>0</td>\n",
       "      <td>0</td>\n",
       "      <td>0</td>\n",
       "      <td>0.0</td>\n",
       "      <td>3.0</td>\n",
       "      <td>(60, 80]</td>\n",
       "    </tr>\n",
       "    <tr>\n",
       "      <th>148828</th>\n",
       "      <td>148829</td>\n",
       "      <td>1</td>\n",
       "      <td>73.846154</td>\n",
       "      <td>53</td>\n",
       "      <td>2</td>\n",
       "      <td>0.513355</td>\n",
       "      <td>7000.0</td>\n",
       "      <td>5</td>\n",
       "      <td>8</td>\n",
       "      <td>2</td>\n",
       "      <td>0</td>\n",
       "      <td>4.0</td>\n",
       "      <td>2.0</td>\n",
       "      <td>(40, 60]</td>\n",
       "    </tr>\n",
       "  </tbody>\n",
       "</table>\n",
       "</div>"
      ],
      "text/plain": [
       "        Unnamed: 0  IsDlq      Revol  age  Num30-59late    DebtRatio  \\\n",
       "16642        16643      1  14.540918   45             3     1.151865   \n",
       "23292        23293      0  79.000000   39             0     0.336924   \n",
       "31147        31148      1  11.385230   37             0     0.821643   \n",
       "46378        46379      0  95.000000   55             0  1195.000000   \n",
       "53719        53720      1  29.784884   35             2     0.535539   \n",
       "54090        54091      0  85.000000   33             0     0.632053   \n",
       "63877        63878      1  12.037116   55             3     0.796490   \n",
       "67670        67671      1  12.462747   59             3     0.714789   \n",
       "68896        68897      0  50.000000   49             0     1.000000   \n",
       "87699        87700      0  88.000000   57             0    90.000000   \n",
       "87742        87743      0  42.000000   38             0     0.219468   \n",
       "97412        97413      0  55.000000   47             0     1.000000   \n",
       "97744        97745      0  50.000000   58             0     0.129223   \n",
       "113645      113646      0  14.127182   64             3     0.380558   \n",
       "121171      121172      0  61.000000   56             0     0.138816   \n",
       "132362      132363      0  18.000000   64             0  1428.000000   \n",
       "133478      133479      0  14.000000   77             0   282.000000   \n",
       "148828      148829      1  73.846154   53             2     0.513355   \n",
       "\n",
       "        MonthlyIncome  NumOpen  Num90late  NumEstate  Num60-89late  \\\n",
       "16642          3726.0       11          0          2             7   \n",
       "23292          9375.0       10          0          2             0   \n",
       "31147          4333.0        9          0          3             1   \n",
       "46378             NaN        4          0          1             0   \n",
       "53719          5500.0       10          2          0             4   \n",
       "54090          8666.0       11          0          2             0   \n",
       "63877          4500.0       17          0          2             1   \n",
       "67670          7667.0        9          1          1             2   \n",
       "68896             NaN        2          0          0             0   \n",
       "87699             NaN        3          0          0             0   \n",
       "87742         17669.0        7          0          2             0   \n",
       "97412             NaN        3          0          0             0   \n",
       "97744          2367.0        6          0          0             0   \n",
       "113645         2900.0        3          0          1             1   \n",
       "121171         1908.0       11          0          0             0   \n",
       "132362            NaN        4          0          1             0   \n",
       "133478            NaN        7          0          0             0   \n",
       "148828         7000.0        5          8          2             0   \n",
       "\n",
       "        NumDependents  ageCat    agecut  \n",
       "16642             3.0     2.0  (40, 60]  \n",
       "23292             2.0     1.0  (18, 40]  \n",
       "31147             0.0     1.0  (18, 40]  \n",
       "46378             NaN     2.0  (40, 60]  \n",
       "53719             0.0     1.0  (18, 40]  \n",
       "54090             0.0     1.0  (18, 40]  \n",
       "63877             1.0     2.0  (40, 60]  \n",
       "67670             0.0     2.0  (40, 60]  \n",
       "68896             0.0     2.0  (40, 60]  \n",
       "87699             0.0     2.0  (40, 60]  \n",
       "87742             2.0     1.0  (18, 40]  \n",
       "97412             0.0     2.0  (40, 60]  \n",
       "97744             0.0     2.0  (40, 60]  \n",
       "113645            0.0     3.0  (60, 80]  \n",
       "121171            0.0     2.0  (40, 60]  \n",
       "132362            NaN     3.0  (60, 80]  \n",
       "133478            0.0     3.0  (60, 80]  \n",
       "148828            4.0     2.0  (40, 60]  "
      ]
     },
     "execution_count": 87,
     "metadata": {},
     "output_type": "execute_result"
    }
   ],
   "source": [
    "# 特征值为10到100之间\n",
    "data_train[(data_train['Revol']>10)&(data_train['Revol']<100)]"
   ]
  },
  {
   "cell_type": "code",
   "execution_count": 88,
   "metadata": {
    "collapsed": false
   },
   "outputs": [
    {
     "name": "stdout",
     "output_type": "stream",
     "text": [
      "0到1之间的样本数为：146662 ------ 坏账率为：5.99%\n",
      "1到10之间的样本数为：3097 ------ 坏账率为：39.52%\n",
      "10到30之间的样本数为：8 ------ 坏账率为：62.5%\n",
      "30到100之间的样本数为：10 ------ 坏账率为：10.0%\n",
      "100到5000之间的样本数为：175 ------ 坏账率为：5.14%\n",
      "5000到10000之间的样本数为：32 ------ 坏账率为：6.25%\n",
      "10000到52000之间的样本数为：16 ------ 坏账率为：0.0%\n"
     ]
    },
    {
     "data": {
      "image/png": "[encoded data removed]",
      "text/plain": [
       "<matplotlib.figure.Figure at 0x7f521786a780>"
      ]
     },
     "metadata": {},
     "output_type": "display_data"
    }
   ],
   "source": [
    "# 确定透支情况下的最大比例\n",
    "RevoList = [(0,1),(1,10),(10,30),(30,100),(100,5000),(5000,10000),(10000,52000)]\n",
    "RevoBadRateList = []\n",
    "\n",
    "for n,elem in enumerate(RevoList):\n",
    "    Revol = data_train.loc[(data_train['Revol']>=elem[0])\n",
    "                           &(data_train['Revol']<elem[1])]\n",
    "    RevoBadRateList.append(Revol[Revol['IsDlq']==1].shape[0]*100/Revol.shape[0])\n",
    "    print('{0}到{1}之间的样本数为：{2} ------ 坏账率为：{3}%'.format(elem[0],elem[1],Revol.shape[0],round(RevoBadRateList[n],2)))\n",
    "    \n",
    "f,ax=plt.subplots(figsize=(8,5))\n",
    "plt.plot(RevoBadRateList)\n",
    "ax.set_title('Revol各区间坏账率')\n",
    "ax.set_xlabel('Revol各区间')\n",
    "ax.set_ylabel('坏账率')\n",
    "plt.show()"
   ]
  },
  {
   "cell_type": "markdown",
   "metadata": {},
   "source": [
    "**结论：**\n",
    "\n",
    "根据观察的现象，我们可以看到：\n",
    "\n",
    "0-1之间的坏账率为5.99%。按理说，随着比例升高，坏账率也应该升高，尤其是在透支的情况下。在1-30区间内，已经属于透支状态，坏账率39%，达到了最高。但是透支是不可能无限升高的，会有个阈值。\n",
    "从30到100区间，坏账率开始下降，坏账率开始下降恢复正常，说明30左右的值（即3000%左右）可能就是正常透支的阈值。\n",
    "\n",
    "因此，**将数值超过30的都定义为异常值，**并将大于30的值与0-1之间合并。"
   ]
  },
  {
   "cell_type": "code",
   "execution_count": 91,
   "metadata": {
    "collapsed": false
   },
   "outputs": [
    {
     "name": "stdout",
     "output_type": "stream",
     "text": [
      "Dependents的缺失值数量为：3924\n",
      "Dependents的缺失率为：2.62%\n"
     ]
    }
   ],
   "source": [
    "print('Dependents的缺失值数量为：{0}'.format(data_train[data_train['NumDependents'].isnull()].shape[0]))\n",
    "print('Dependents的缺失率为：{0}%'.format(round(data_train[data_train['NumDependents'].isnull()].shape[0]*100/data_train.shape[0],2)))"
   ]
  },
  {
   "cell_type": "code",
   "execution_count": 94,
   "metadata": {
    "collapsed": false
   },
   "outputs": [
    {
     "data": {
      "image/png": "[encoded data removed]",
      "text/plain": [
       "<matplotlib.figure.Figure at 0x7f52167c4d30>"
      ]
     },
     "metadata": {},
     "output_type": "display_data"
    },
    {
     "name": "stdout",
     "output_type": "stream",
     "text": [
      "Dependents为0的概率为：57.93%\n"
     ]
    }
   ],
   "source": [
    "f,ax=plt.subplots(figsize=(10,5))\n",
    "sns.countplot(x='NumDependents',hue='IsDlq',data=data_train,ax=ax)\n",
    "plt.show()\n",
    "print('Dependents为0的概率为：{0}%'.format(round(data_train[data_train['NumDependents']==0].shape[0]*100/data_train.shape[0],2)))"
   ]
  },
  {
   "cell_type": "code",
   "execution_count": 95,
   "metadata": {
    "collapsed": false
   },
   "outputs": [
    {
     "name": "stderr",
     "output_type": "stream",
     "text": [
      "/home/python/anaconda3/lib/python3.5/site-packages/statsmodels/nonparametric/kdetools.py:20: VisibleDeprecationWarning: using a non-integer number instead of an integer will result in an error in the future\n",
      "  y = X[:m/2+1] + np.r_[0,X[m/2+1:],0]*1j\n"
     ]
    },
    {
     "data": {
      "image/png": "[encoded data removed]",
      "text/plain": [
       "<matplotlib.figure.Figure at 0x7f52167ca6a0>"
      ]
     },
     "metadata": {},
     "output_type": "display_data"
    }
   ],
   "source": [
    "f,[ax1,ax2]=plt.subplots(1,2,figsize=(20,5))\n",
    "sns.kdeplot(data_train['MonthlyIncome'],ax=ax1)\n",
    "sns.boxplot(y='MonthlyIncome',data=data_train,ax=ax2)\n",
    "plt.show()"
   ]
  },
  {
   "cell_type": "code",
   "execution_count": null,
   "metadata": {
    "collapsed": true
   },
   "outputs": [],
   "source": []
  }
 ],
 "metadata": {
  "anaconda-cloud": {},
  "kernelspec": {
   "display_name": "Python [Root]",
   "language": "python",
   "name": "Python [Root]"
  },
  "language_info": {
   "codemirror_mode": {
    "name": "ipython",
    "version": 3
   },
   "file_extension": ".py",
   "mimetype": "text/x-python",
   "name": "python",
   "nbconvert_exporter": "python",
   "pygments_lexer": "ipython3",
   "version": "3.5.2"
  }
 },
 "nbformat": 4,
 "nbformat_minor": 0
}
